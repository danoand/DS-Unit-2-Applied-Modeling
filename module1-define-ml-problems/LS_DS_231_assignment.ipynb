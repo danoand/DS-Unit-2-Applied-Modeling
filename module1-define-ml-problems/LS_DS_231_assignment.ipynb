{
 "cells": [
  {
   "cell_type": "markdown",
   "metadata": {
    "colab_type": "text",
    "id": "nCc3XZEyG3XV"
   },
   "source": [
    "Lambda School Data Science\n",
    "\n",
    "*Unit 2, Sprint 3, Module 1*\n",
    "\n",
    "---\n",
    "\n",
    "\n",
    "# Define ML problems\n",
    "\n",
    "You will use your portfolio project dataset for all assignments this sprint.\n",
    "\n",
    "## Assignment\n",
    "\n",
    "Complete these tasks for your project, and document your decisions.\n",
    "\n",
    "- [x] Choose your target. Which column in your tabular dataset will you predict?\n",
    "- [x] Is your problem regression or classification?\n",
    "- [x] How is your target distributed?\n",
    "    - Classification: How many classes? Are the classes imbalanced?\n",
    "    - Regression: Is the target right-skewed? If so, you may want to log transform the target.\n",
    "- [x] Choose your evaluation metric(s).\n",
    "    - Classification: Is your majority class frequency >= 50% and < 70% ? If so, you can just use accuracy if you want. Outside that range, accuracy could be misleading. What evaluation metric will you choose, in addition to or instead of accuracy?\n",
    "    - Regression: Will you use mean absolute error, root mean squared error, R^2, or other regression metrics?\n",
    "- [x] Choose which observations you will use to train, validate, and test your model.\n",
    "    - Are some observations outliers? Will you exclude them?\n",
    "    - Will you do a random split or a time-based split?\n",
    "- [x] Begin to clean and explore your data.\n",
    "- [x] Begin to choose which features, if any, to exclude. Would some features \"leak\" future information?\n",
    "\n",
    "If you haven't found a dataset yet, do that today. [Review requirements for your portfolio project](https://lambdaschool.github.io/ds/unit2) and choose your dataset.\n",
    "\n",
    "Some students worry, ***what if my model isn't “good”?*** Then, [produce a detailed tribute to your wrongness. That is science!](https://twitter.com/nathanwpyle/status/1176860147223867393)"
   ]
  },
  {
   "cell_type": "code",
   "execution_count": 1,
   "metadata": {},
   "outputs": [
    {
     "data": {
      "text/html": "<div>\n<style scoped>\n    .dataframe tbody tr th:only-of-type {\n        vertical-align: middle;\n    }\n\n    .dataframe tbody tr th {\n        vertical-align: top;\n    }\n\n    .dataframe thead th {\n        text-align: right;\n    }\n</style>\n<table border=\"1\" class=\"dataframe\">\n  <thead>\n    <tr style=\"text-align: right;\">\n      <th></th>\n      <th>geo_point_2d</th>\n      <th>Ambulance</th>\n      <th>City</th>\n      <th>County</th>\n      <th>Alcohol Present</th>\n      <th>Day of Week</th>\n      <th>CrashGrp</th>\n      <th>CrashHour</th>\n      <th>CrashLoc</th>\n      <th>CrashMonth</th>\n      <th>...</th>\n      <th>RdConfig</th>\n      <th>RdDefects</th>\n      <th>RdFeature</th>\n      <th>RdSurface</th>\n      <th>Region</th>\n      <th>RuralUrban</th>\n      <th>SpeedLimit</th>\n      <th>TraffCntrl</th>\n      <th>Weather</th>\n      <th>Workzone</th>\n    </tr>\n  </thead>\n  <tbody>\n    <tr>\n      <th>19154</th>\n      <td>35.9893707668,-78.3448094397</td>\n      <td>Yes</td>\n      <td>None - Rural Crash</td>\n      <td>Franklin</td>\n      <td>No</td>\n      <td>Tuesday</td>\n      <td>Walking Along Roadway</td>\n      <td>9</td>\n      <td>Non-Intersection</td>\n      <td>September</td>\n      <td>...</td>\n      <td>Two-Way, Not Divided</td>\n      <td>None</td>\n      <td>No Special Feature</td>\n      <td>Smooth Asphalt</td>\n      <td>Piedmont</td>\n      <td>Rural</td>\n      <td>40 - 45  MPH</td>\n      <td>Double Yellow Line, No Passing Zone</td>\n      <td>Clear</td>\n      <td>No</td>\n    </tr>\n    <tr>\n      <th>22821</th>\n      <td>36.1338066156,-79.4142513504</td>\n      <td>Yes</td>\n      <td>None - Rural Crash</td>\n      <td>Alamance</td>\n      <td>No</td>\n      <td>Tuesday</td>\n      <td>Walking Along Roadway</td>\n      <td>11</td>\n      <td>Non-Intersection</td>\n      <td>May</td>\n      <td>...</td>\n      <td>Two-Way, Not Divided</td>\n      <td>None</td>\n      <td>No Special Feature</td>\n      <td>Smooth Asphalt</td>\n      <td>Piedmont</td>\n      <td>Rural</td>\n      <td>30 - 35  MPH</td>\n      <td>Double Yellow Line, No Passing Zone</td>\n      <td>Cloudy</td>\n      <td>No</td>\n    </tr>\n    <tr>\n      <th>31689</th>\n      <td>35.4085697892,-80.8627580695</td>\n      <td>Yes</td>\n      <td>Huntersville</td>\n      <td>Mecklenburg</td>\n      <td>No</td>\n      <td>Thursday</td>\n      <td>Other/Unknown—Insufficient Details</td>\n      <td>12</td>\n      <td>Non-Intersection</td>\n      <td>September</td>\n      <td>...</td>\n      <td>Two-Way, Not Divided</td>\n      <td>None</td>\n      <td>No Special Feature</td>\n      <td>Coarse Asphalt</td>\n      <td>Piedmont</td>\n      <td>Urban</td>\n      <td>5 - 15 MPH</td>\n      <td>No Control Present</td>\n      <td>Cloudy</td>\n      <td>No</td>\n    </tr>\n    <tr>\n      <th>6577</th>\n      <td>34.9321022171,-79.7671280096</td>\n      <td>Yes</td>\n      <td>Rockingham</td>\n      <td>Richmond</td>\n      <td>No</td>\n      <td>Thursday</td>\n      <td>Backing Vehicle</td>\n      <td>10</td>\n      <td>Non-Roadway</td>\n      <td>November</td>\n      <td>...</td>\n      <td>Two-Way, Not Divided</td>\n      <td>None</td>\n      <td>Driveway, Public</td>\n      <td>Coarse Asphalt</td>\n      <td>Piedmont</td>\n      <td>Urban</td>\n      <td>Unknown</td>\n      <td>No Control Present</td>\n      <td>Cloudy</td>\n      <td>No</td>\n    </tr>\n    <tr>\n      <th>14345</th>\n      <td>35.3215453273,-82.4674589497</td>\n      <td>No</td>\n      <td>Hendersonville</td>\n      <td>Henderson</td>\n      <td>No</td>\n      <td>Wednesday</td>\n      <td>Unusual Circumstances</td>\n      <td>9</td>\n      <td>Non-Roadway</td>\n      <td>June</td>\n      <td>...</td>\n      <td>Two-Way, Not Divided</td>\n      <td>None</td>\n      <td>Missing</td>\n      <td>Coarse Asphalt</td>\n      <td>Mountains</td>\n      <td>Urban</td>\n      <td>5 - 15 MPH</td>\n      <td>No Control Present</td>\n      <td>Clear</td>\n      <td>No</td>\n    </tr>\n    <tr>\n      <th>25165</th>\n      <td>35.9639699998,-78.3072</td>\n      <td>Yes</td>\n      <td>None - Rural Crash</td>\n      <td>Franklin</td>\n      <td>Yes</td>\n      <td>Sunday</td>\n      <td>Pedestrian in Roadway—Circumstances Unknown</td>\n      <td>20</td>\n      <td>Non-Intersection</td>\n      <td>October</td>\n      <td>...</td>\n      <td>Two-Way, Not Divided</td>\n      <td>None</td>\n      <td>No Special Feature</td>\n      <td>Coarse Asphalt</td>\n      <td>Piedmont</td>\n      <td>Rural</td>\n      <td>50 - 55  MPH</td>\n      <td>No Control Present</td>\n      <td>Clear</td>\n      <td>No</td>\n    </tr>\n    <tr>\n      <th>4980</th>\n      <td>35.2295432357,-80.9247151697</td>\n      <td>Yes</td>\n      <td>Charlotte</td>\n      <td>Mecklenburg</td>\n      <td>Yes</td>\n      <td>Sunday</td>\n      <td>Crossing Roadway—Vehicle Not Turning</td>\n      <td>4</td>\n      <td>Intersection</td>\n      <td>March</td>\n      <td>...</td>\n      <td>Two-Way, Divided, Positive Median Barrier</td>\n      <td>None</td>\n      <td>Four-Way Intersection</td>\n      <td>Smooth Asphalt</td>\n      <td>Piedmont</td>\n      <td>Urban</td>\n      <td>50 - 55  MPH</td>\n      <td>Stop And Go Signal</td>\n      <td>Clear</td>\n      <td>No</td>\n    </tr>\n    <tr>\n      <th>1229</th>\n      <td>35.5289200002,-82.9418</td>\n      <td>Yes</td>\n      <td>None - Rural Crash</td>\n      <td>Haywood</td>\n      <td>No</td>\n      <td>Tuesday</td>\n      <td>Walking Along Roadway</td>\n      <td>5</td>\n      <td>Non-Intersection</td>\n      <td>July</td>\n      <td>...</td>\n      <td>Two-Way, Not Divided</td>\n      <td>None</td>\n      <td>No Special Feature</td>\n      <td>Coarse Asphalt</td>\n      <td>Mountains</td>\n      <td>Rural</td>\n      <td>40 - 45  MPH</td>\n      <td>Double Yellow Line, No Passing Zone</td>\n      <td>Clear</td>\n      <td>No</td>\n    </tr>\n    <tr>\n      <th>31721</th>\n      <td>34.2460800003,-77.8540999997</td>\n      <td>No</td>\n      <td>Wilmington</td>\n      <td>New Hanover</td>\n      <td>No</td>\n      <td>Thursday</td>\n      <td>Unusual Circumstances</td>\n      <td>18</td>\n      <td>Non-Intersection</td>\n      <td>April</td>\n      <td>...</td>\n      <td>Two-Way, Divided, Unprotected Median</td>\n      <td>None</td>\n      <td>No Special Feature</td>\n      <td>Coarse Asphalt</td>\n      <td>Coastal</td>\n      <td>Urban</td>\n      <td>Unknown</td>\n      <td>No Control Present</td>\n      <td>Clear</td>\n      <td>No</td>\n    </tr>\n    <tr>\n      <th>23679</th>\n      <td>35.0620500003,-80.6357999998</td>\n      <td>No</td>\n      <td>Indian Trail</td>\n      <td>Union</td>\n      <td>No</td>\n      <td>Wednesday</td>\n      <td>Backing Vehicle</td>\n      <td>6</td>\n      <td>Non-Roadway</td>\n      <td>March</td>\n      <td>...</td>\n      <td>Two-Way, Not Divided</td>\n      <td>None</td>\n      <td>Driveway, Public</td>\n      <td>Smooth Asphalt</td>\n      <td>Piedmont</td>\n      <td>Urban</td>\n      <td>Unknown</td>\n      <td>No Control Present</td>\n      <td>Fog, Smog, Smoke</td>\n      <td>No</td>\n    </tr>\n    <tr>\n      <th>2793</th>\n      <td>35.4600372982,-81.2728750995</td>\n      <td>No</td>\n      <td>None - Rural Crash</td>\n      <td>Lincoln</td>\n      <td>No</td>\n      <td>Saturday</td>\n      <td>Walking Along Roadway</td>\n      <td>19</td>\n      <td>Non-Intersection</td>\n      <td>September</td>\n      <td>...</td>\n      <td>Two-Way, Not Divided</td>\n      <td>None</td>\n      <td>No Special Feature</td>\n      <td>Coarse Asphalt</td>\n      <td>Piedmont</td>\n      <td>Rural</td>\n      <td>40 - 45  MPH</td>\n      <td>Double Yellow Line, No Passing Zone</td>\n      <td>Clear</td>\n      <td>No</td>\n    </tr>\n    <tr>\n      <th>31016</th>\n      <td>35.3550800001,-83.2573999996</td>\n      <td>Yes</td>\n      <td>None - Rural Crash</td>\n      <td>Jackson</td>\n      <td>No</td>\n      <td>Friday</td>\n      <td>Unusual Circumstances</td>\n      <td>19</td>\n      <td>Non-Intersection</td>\n      <td>December</td>\n      <td>...</td>\n      <td>Two-Way, Divided, Unprotected Median</td>\n      <td>None</td>\n      <td>No Special Feature</td>\n      <td>Smooth Asphalt</td>\n      <td>Mountains</td>\n      <td>Rural</td>\n      <td>50 - 55  MPH</td>\n      <td>No Control Present</td>\n      <td>Snow, Sleet, Hail, Freezing Rain/Drizzle</td>\n      <td>No</td>\n    </tr>\n    <tr>\n      <th>31777</th>\n      <td>35.77653,-78.6108999995</td>\n      <td>Yes</td>\n      <td>Raleigh</td>\n      <td>Wake</td>\n      <td>Yes</td>\n      <td>Monday</td>\n      <td>Crossing Roadway—Vehicle Not Turning</td>\n      <td>17</td>\n      <td>Non-Intersection</td>\n      <td>October</td>\n      <td>...</td>\n      <td>Two-Way, Not Divided</td>\n      <td>None</td>\n      <td>No Special Feature</td>\n      <td>Smooth Asphalt</td>\n      <td>Piedmont</td>\n      <td>Urban</td>\n      <td>30 - 35  MPH</td>\n      <td>Double Yellow Line, No Passing Zone</td>\n      <td>Clear</td>\n      <td>No</td>\n    </tr>\n    <tr>\n      <th>6045</th>\n      <td>35.5886487909,-82.5912124103</td>\n      <td>Yes</td>\n      <td>Asheville</td>\n      <td>Buncombe</td>\n      <td>No</td>\n      <td>Friday</td>\n      <td>Off Roadway</td>\n      <td>8</td>\n      <td>Non-Roadway</td>\n      <td>October</td>\n      <td>...</td>\n      <td>One-Way, Not Divided</td>\n      <td>None</td>\n      <td>Driveway, Public</td>\n      <td>Smooth Asphalt</td>\n      <td>Mountains</td>\n      <td>Urban</td>\n      <td>Unknown</td>\n      <td>No Control Present</td>\n      <td>Clear</td>\n      <td>No</td>\n    </tr>\n    <tr>\n      <th>21442</th>\n      <td>35.9508925513,-79.9862214596</td>\n      <td>Yes</td>\n      <td>High Point</td>\n      <td>Guilford</td>\n      <td>No</td>\n      <td>Thursday</td>\n      <td>Backing Vehicle</td>\n      <td>13</td>\n      <td>Non-Roadway</td>\n      <td>January</td>\n      <td>...</td>\n      <td>One-Way, Not Divided</td>\n      <td>None</td>\n      <td>Driveway, Private</td>\n      <td>Concrete</td>\n      <td>Piedmont</td>\n      <td>Urban</td>\n      <td>Unknown</td>\n      <td>No Control Present</td>\n      <td>Clear</td>\n      <td>No</td>\n    </tr>\n    <tr>\n      <th>31475</th>\n      <td>35.3708728634,-77.9889356698</td>\n      <td>Yes</td>\n      <td>Goldsboro</td>\n      <td>Wayne</td>\n      <td>No</td>\n      <td>Friday</td>\n      <td>Dash/Dart-Out</td>\n      <td>7</td>\n      <td>Intersection</td>\n      <td>October</td>\n      <td>...</td>\n      <td>Two-Way, Not Divided</td>\n      <td>None</td>\n      <td>T-Intersection</td>\n      <td>Coarse Asphalt</td>\n      <td>Coastal</td>\n      <td>Urban</td>\n      <td>20 - 25  MPH</td>\n      <td>No Control Present</td>\n      <td>Clear</td>\n      <td>No</td>\n    </tr>\n    <tr>\n      <th>7072</th>\n      <td>35.2366290002,-80.8541889999</td>\n      <td>Yes</td>\n      <td>Charlotte</td>\n      <td>Mecklenburg</td>\n      <td>Yes</td>\n      <td>Tuesday</td>\n      <td>Crossing Roadway—Vehicle Turning</td>\n      <td>10</td>\n      <td>Intersection</td>\n      <td>April</td>\n      <td>...</td>\n      <td>Two-Way, Divided, Unprotected Median</td>\n      <td>None</td>\n      <td>On or Off Ramp</td>\n      <td>Coarse Asphalt</td>\n      <td>Piedmont</td>\n      <td>Urban</td>\n      <td>30 - 35  MPH</td>\n      <td>Flashing Signal Without Stop Sign</td>\n      <td>Clear</td>\n      <td>No</td>\n    </tr>\n    <tr>\n      <th>14654</th>\n      <td>35.3159388172,-82.4599719903</td>\n      <td>Yes</td>\n      <td>Hendersonville</td>\n      <td>Henderson</td>\n      <td>No</td>\n      <td>Monday</td>\n      <td>Dash/Dart-Out</td>\n      <td>19</td>\n      <td>Intersection-Related</td>\n      <td>July</td>\n      <td>...</td>\n      <td>Unknown</td>\n      <td>Unknown</td>\n      <td>Missing</td>\n      <td>Missing</td>\n      <td>Mountains</td>\n      <td>Urban</td>\n      <td>20 - 25  MPH</td>\n      <td>No Control Present</td>\n      <td>Other</td>\n      <td>No</td>\n    </tr>\n    <tr>\n      <th>23373</th>\n      <td>35.3161999996,-80.7695000002</td>\n      <td>No</td>\n      <td>Charlotte</td>\n      <td>Mecklenburg</td>\n      <td>No</td>\n      <td>Thursday</td>\n      <td>Off Roadway</td>\n      <td>8</td>\n      <td>Non-Roadway</td>\n      <td>April</td>\n      <td>...</td>\n      <td>Two-Way, Not Divided</td>\n      <td>None</td>\n      <td>Other</td>\n      <td>Smooth Asphalt</td>\n      <td>Piedmont</td>\n      <td>Urban</td>\n      <td>20 - 25  MPH</td>\n      <td>No Control Present</td>\n      <td>Clear</td>\n      <td>No</td>\n    </tr>\n    <tr>\n      <th>24595</th>\n      <td>36.3804669446,-81.4851587795</td>\n      <td>No</td>\n      <td>West Jefferson</td>\n      <td>Ashe</td>\n      <td>No</td>\n      <td>Saturday</td>\n      <td>Dash/Dart-Out</td>\n      <td>20</td>\n      <td>Intersection-Related</td>\n      <td>March</td>\n      <td>...</td>\n      <td>Two-Way, Not Divided</td>\n      <td>None</td>\n      <td>Four-Way Intersection</td>\n      <td>Coarse Asphalt</td>\n      <td>Mountains</td>\n      <td>Rural</td>\n      <td>50 - 55  MPH</td>\n      <td>Stop And Go Signal</td>\n      <td>Clear</td>\n      <td>No</td>\n    </tr>\n  </tbody>\n</table>\n<p>20 rows × 57 columns</p>\n</div>",
      "text/plain": "                       geo_point_2d Ambulance                City  \\\n19154  35.9893707668,-78.3448094397       Yes  None - Rural Crash   \n22821  36.1338066156,-79.4142513504       Yes  None - Rural Crash   \n31689  35.4085697892,-80.8627580695       Yes        Huntersville   \n6577   34.9321022171,-79.7671280096       Yes          Rockingham   \n14345  35.3215453273,-82.4674589497        No      Hendersonville   \n25165        35.9639699998,-78.3072       Yes  None - Rural Crash   \n4980   35.2295432357,-80.9247151697       Yes           Charlotte   \n1229         35.5289200002,-82.9418       Yes  None - Rural Crash   \n31721  34.2460800003,-77.8540999997        No          Wilmington   \n23679  35.0620500003,-80.6357999998        No        Indian Trail   \n2793   35.4600372982,-81.2728750995        No  None - Rural Crash   \n31016  35.3550800001,-83.2573999996       Yes  None - Rural Crash   \n31777       35.77653,-78.6108999995       Yes             Raleigh   \n6045   35.5886487909,-82.5912124103       Yes           Asheville   \n21442  35.9508925513,-79.9862214596       Yes          High Point   \n31475  35.3708728634,-77.9889356698       Yes           Goldsboro   \n7072   35.2366290002,-80.8541889999       Yes           Charlotte   \n14654  35.3159388172,-82.4599719903       Yes      Hendersonville   \n23373  35.3161999996,-80.7695000002        No           Charlotte   \n24595  36.3804669446,-81.4851587795        No      West Jefferson   \n\n            County Alcohol Present Day of Week  \\\n19154     Franklin              No     Tuesday   \n22821     Alamance              No     Tuesday   \n31689  Mecklenburg              No    Thursday   \n6577      Richmond              No    Thursday   \n14345    Henderson              No   Wednesday   \n25165     Franklin             Yes      Sunday   \n4980   Mecklenburg             Yes      Sunday   \n1229       Haywood              No     Tuesday   \n31721  New Hanover              No    Thursday   \n23679        Union              No   Wednesday   \n2793       Lincoln              No    Saturday   \n31016      Jackson              No      Friday   \n31777         Wake             Yes      Monday   \n6045      Buncombe              No      Friday   \n21442     Guilford              No    Thursday   \n31475        Wayne              No      Friday   \n7072   Mecklenburg             Yes     Tuesday   \n14654    Henderson              No      Monday   \n23373  Mecklenburg              No    Thursday   \n24595         Ashe              No    Saturday   \n\n                                          CrashGrp  CrashHour  \\\n19154                        Walking Along Roadway          9   \n22821                        Walking Along Roadway         11   \n31689           Other/Unknown—Insufficient Details         12   \n6577                               Backing Vehicle         10   \n14345                        Unusual Circumstances          9   \n25165  Pedestrian in Roadway—Circumstances Unknown         20   \n4980          Crossing Roadway—Vehicle Not Turning          4   \n1229                         Walking Along Roadway          5   \n31721                        Unusual Circumstances         18   \n23679                              Backing Vehicle          6   \n2793                         Walking Along Roadway         19   \n31016                        Unusual Circumstances         19   \n31777         Crossing Roadway—Vehicle Not Turning         17   \n6045                                   Off Roadway          8   \n21442                              Backing Vehicle         13   \n31475                                Dash/Dart-Out          7   \n7072              Crossing Roadway—Vehicle Turning         10   \n14654                                Dash/Dart-Out         19   \n23373                                  Off Roadway          8   \n24595                                Dash/Dart-Out         20   \n\n                   CrashLoc CrashMonth  ...  \\\n19154      Non-Intersection  September  ...   \n22821      Non-Intersection        May  ...   \n31689      Non-Intersection  September  ...   \n6577            Non-Roadway   November  ...   \n14345           Non-Roadway       June  ...   \n25165      Non-Intersection    October  ...   \n4980           Intersection      March  ...   \n1229       Non-Intersection       July  ...   \n31721      Non-Intersection      April  ...   \n23679           Non-Roadway      March  ...   \n2793       Non-Intersection  September  ...   \n31016      Non-Intersection   December  ...   \n31777      Non-Intersection    October  ...   \n6045            Non-Roadway    October  ...   \n21442           Non-Roadway    January  ...   \n31475          Intersection    October  ...   \n7072           Intersection      April  ...   \n14654  Intersection-Related       July  ...   \n23373           Non-Roadway      April  ...   \n24595  Intersection-Related      March  ...   \n\n                                        RdConfig RdDefects  \\\n19154                       Two-Way, Not Divided      None   \n22821                       Two-Way, Not Divided      None   \n31689                       Two-Way, Not Divided      None   \n6577                        Two-Way, Not Divided      None   \n14345                       Two-Way, Not Divided      None   \n25165                       Two-Way, Not Divided      None   \n4980   Two-Way, Divided, Positive Median Barrier      None   \n1229                        Two-Way, Not Divided      None   \n31721       Two-Way, Divided, Unprotected Median      None   \n23679                       Two-Way, Not Divided      None   \n2793                        Two-Way, Not Divided      None   \n31016       Two-Way, Divided, Unprotected Median      None   \n31777                       Two-Way, Not Divided      None   \n6045                        One-Way, Not Divided      None   \n21442                       One-Way, Not Divided      None   \n31475                       Two-Way, Not Divided      None   \n7072        Two-Way, Divided, Unprotected Median      None   \n14654                                    Unknown   Unknown   \n23373                       Two-Way, Not Divided      None   \n24595                       Two-Way, Not Divided      None   \n\n                   RdFeature       RdSurface     Region RuralUrban  \\\n19154     No Special Feature  Smooth Asphalt   Piedmont      Rural   \n22821     No Special Feature  Smooth Asphalt   Piedmont      Rural   \n31689     No Special Feature  Coarse Asphalt   Piedmont      Urban   \n6577        Driveway, Public  Coarse Asphalt   Piedmont      Urban   \n14345                Missing  Coarse Asphalt  Mountains      Urban   \n25165     No Special Feature  Coarse Asphalt   Piedmont      Rural   \n4980   Four-Way Intersection  Smooth Asphalt   Piedmont      Urban   \n1229      No Special Feature  Coarse Asphalt  Mountains      Rural   \n31721     No Special Feature  Coarse Asphalt    Coastal      Urban   \n23679       Driveway, Public  Smooth Asphalt   Piedmont      Urban   \n2793      No Special Feature  Coarse Asphalt   Piedmont      Rural   \n31016     No Special Feature  Smooth Asphalt  Mountains      Rural   \n31777     No Special Feature  Smooth Asphalt   Piedmont      Urban   \n6045        Driveway, Public  Smooth Asphalt  Mountains      Urban   \n21442      Driveway, Private        Concrete   Piedmont      Urban   \n31475         T-Intersection  Coarse Asphalt    Coastal      Urban   \n7072          On or Off Ramp  Coarse Asphalt   Piedmont      Urban   \n14654                Missing         Missing  Mountains      Urban   \n23373                  Other  Smooth Asphalt   Piedmont      Urban   \n24595  Four-Way Intersection  Coarse Asphalt  Mountains      Rural   \n\n         SpeedLimit                           TraffCntrl  \\\n19154  40 - 45  MPH  Double Yellow Line, No Passing Zone   \n22821  30 - 35  MPH  Double Yellow Line, No Passing Zone   \n31689    5 - 15 MPH                   No Control Present   \n6577        Unknown                   No Control Present   \n14345    5 - 15 MPH                   No Control Present   \n25165  50 - 55  MPH                   No Control Present   \n4980   50 - 55  MPH                   Stop And Go Signal   \n1229   40 - 45  MPH  Double Yellow Line, No Passing Zone   \n31721       Unknown                   No Control Present   \n23679       Unknown                   No Control Present   \n2793   40 - 45  MPH  Double Yellow Line, No Passing Zone   \n31016  50 - 55  MPH                   No Control Present   \n31777  30 - 35  MPH  Double Yellow Line, No Passing Zone   \n6045        Unknown                   No Control Present   \n21442       Unknown                   No Control Present   \n31475  20 - 25  MPH                   No Control Present   \n7072   30 - 35  MPH    Flashing Signal Without Stop Sign   \n14654  20 - 25  MPH                   No Control Present   \n23373  20 - 25  MPH                   No Control Present   \n24595  50 - 55  MPH                   Stop And Go Signal   \n\n                                        Weather Workzone  \n19154                                     Clear       No  \n22821                                    Cloudy       No  \n31689                                    Cloudy       No  \n6577                                     Cloudy       No  \n14345                                     Clear       No  \n25165                                     Clear       No  \n4980                                      Clear       No  \n1229                                      Clear       No  \n31721                                     Clear       No  \n23679                          Fog, Smog, Smoke       No  \n2793                                      Clear       No  \n31016  Snow, Sleet, Hail, Freezing Rain/Drizzle       No  \n31777                                     Clear       No  \n6045                                      Clear       No  \n21442                                     Clear       No  \n31475                                     Clear       No  \n7072                                      Clear       No  \n14654                                     Other       No  \n23373                                     Clear       No  \n24595                                     Clear       No  \n\n[20 rows x 57 columns]"
     },
     "execution_count": 1,
     "metadata": {},
     "output_type": "execute_result"
    }
   ],
   "source": [
    "# Select and import the raw data into a dataframe\n",
    "import pandas as pd\n",
    "import numpy as np\n",
    "\n",
    "# Import data\n",
    "df_work = pd.read_csv(\"/Users/danoand/Documents/Companies/LambdaSchool/Build_Project_02/data/pedestrian-crashes-chapel-hill-region_imported.txt\",\n",
    "                     sep='\\t')\n",
    "\n",
    "df_work.sample(20)\n"
   ]
  },
  {
   "cell_type": "markdown",
   "execution_count": null,
   "metadata": {},
   "outputs": [],
   "source": [
    "### Choose Target\n",
    "\n",
    "_Which column in your tablular dataset will you predict?_ \n",
    "\n",
    "From a a business/policy perspective I am going to predict the pedestrian injury column.  Specifically, an engineered column based on the `PedInjury` attribute and predict whether an outcome of a fatality or serious injury has occurred.\n",
    "\n"
   ]
  },
  {
   "cell_type": "markdown",
   "execution_count": null,
   "metadata": {},
   "outputs": [],
   "source": [
    "### Type of Problem\n",
    "\n",
    "_Is your problem regression or classification?_ \n",
    "\n",
    "`Classification`"
   ]
  },
  {
   "cell_type": "markdown",
   "execution_count": null,
   "metadata": {},
   "outputs": [],
   "source": [
    "### Target Distribution\n",
    "\n",
    "_How many classes? Are the classes imbalanced?_\n",
    "\n",
    "There are six classes of which the engineered target column will combine or treat two classes as one predicted outcome (***A: Suspected Serious Injury*** & ***K: Killed***)\n",
    "\n",
    "```\n",
    "C: Possible Injury             0.409020\n",
    "B: Suspected Minor Injury      0.354597\n",
    "A: Suspected Serious Injury    0.072140\n",
    "K: Killed                      0.063917\n",
    "O: No Injury                   0.059975\n",
    "Unknown Injury                 0.040351\n",
    "Name: PedInjury, dtype: float64\n",
    "```\n",
    "\n",
    "In this training dataset, approximately 12% of pedestrians involved in vehicle/pedestrian accidents were fatalities or suffered a serious injury\n"
   ]
  },
  {
   "cell_type": "markdown",
   "execution_count": null,
   "metadata": {},
   "outputs": [],
   "source": [
    "### Evaluation Metrics\n",
    "\n",
    "I will use accuracy, precision, and recall to get an overall view of the model's performance\n"
   ]
  },
  {
   "cell_type": "markdown",
   "execution_count": null,
   "metadata": {},
   "outputs": [],
   "source": [
    "### Observation Choices\n",
    "\n",
    "_Choose which observations you will use to train, validate, and test your model._\n",
    "\n",
    "#### Dataset Assessment\n",
    "\n",
    "The overall dataset appears very \"clean\".  No missing data or outliers identified.  \n",
    "\n",
    "* For the model attributes (subset of all of the dataset attributes), there is some high cardinality and zero values that align with the real world observations (e.g. 0 hour assume to mean the Midnight to 1am hour)\n",
    "\n",
    "**Pandas profile assessment**:\n",
    "\n",
    "* `City` has a high cardinality: 444 distinct values\t(Warning)\n",
    "* `County` has a high cardinality: 100 distinct values\t(Warning)\n",
    "* `CrashHour` has 716 (2.1%) zeros\t(Zeros)\n",
    "* `Region` is highly correlated with `County`\t(High Correlation)\n",
    "* `County` is highly correlated with `Region`\t(High Correlation)\n",
    "\n",
    "#### Modeling Split\n",
    "\n",
    "My intent is to split the data randomly but \"stratify\" along the original (pre-engineered) Pedestrian injury outcomes.  The split will be as follows:\n",
    "\n",
    "* Training (`70%`)\n",
    "* Validates (`15%`)\n",
    "* Test (`15%`)\n",
    "\n",
    "#### Modeling Attributes\n",
    "\n",
    "The modeling attributes are \"a priori\" or \"ante\" data elements that could reasonably be known prior to the event.  (As opposed to attributes known only after the event such as driver age, sex, etc.).  Those \"ante\" data elements are:\n",
    "\n",
    "* `City`\n",
    "* `County`\n",
    "* `CrashHour`\n",
    "* `CrashMonth`\n",
    "* `Development`\n",
    "* `LightCond`\n",
    "* `Locality`\n",
    "* `NumLanes`\n",
    "* `RdCharacte`\n",
    "* `RdClass`\n",
    "* `RdConditio`\n",
    "* `RdConfig`\n",
    "* `RdDefects`\n",
    "* `RdFeature`\n",
    "* `RdSurface`\n",
    "* `Region`\n",
    "* `RuralUrban`\n",
    "* `SpeedLimit`\n",
    "* `TraffCntrl`\n",
    "* `Weather`\n",
    "* `Workzone`\n"
   ]
  }
 ],
 "metadata": {
  "kernelspec": {
   "display_name": "Python 3",
   "language": "python",
   "name": "python3"
  },
  "language_info": {
   "codemirror_mode": {
    "name": "ipython",
    "version": 3
   },
   "file_extension": ".py",
   "mimetype": "text/x-python",
   "name": "python",
   "nbconvert_exporter": "python",
   "pygments_lexer": "ipython3",
   "version": "3.7.4-final"
  }
 },
 "nbformat": 4,
 "nbformat_minor": 1
}
